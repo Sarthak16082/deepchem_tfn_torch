{
 "cells": [
  {
   "cell_type": "code",
   "execution_count": 3,
   "metadata": {},
   "outputs": [
    {
     "name": "stdout",
     "output_type": "stream",
     "text": [
      "\u001b[1m============================= test session starts ==============================\u001b[0m\n",
      "platform darwin -- Python 3.9.18, pytest-8.3.5, pluggy-1.5.0 -- /Users/sarthak/Documents/GitHub/deepchem_tfn_torch/tfn_env/bin/python\n",
      "cachedir: .pytest_cache\n",
      "rootdir: /Users/sarthak/Documents/GitHub/deepchem_tfn_torch\n",
      "configfile: setup.cfg\n",
      "collected 51 items                                                             \u001b[0m\u001b[1m\n",
      "\n",
      "test_tfn_equivariance.py::TestTorchEquivariance::test_F0_invariance \u001b[32mPASSED\u001b[0m\u001b[32m [  1%]\u001b[0m\n",
      "test_tfn_equivariance.py::TestTorchEquivariance::test_F1_equivariance \u001b[32mPASSED\u001b[0m\u001b[32m [  3%]\u001b[0m\n",
      "test_tfn_equivariance.py::TestTorchEquivariance::test_F2_norm_invariance \u001b[32mPASSED\u001b[0m\u001b[32m [  5%]\u001b[0m\n",
      "test_tfn_equivariance.py::TestTorchEquivariance::test_R_invariance \u001b[32mPASSED\u001b[0m\u001b[32m [  7%]\u001b[0m\n",
      "test_tfn_equivariance.py::TestTorchEquivariance::test_Y2_norm_invariance \u001b[32mPASSED\u001b[0m\u001b[32m [  9%]\u001b[0m\n",
      "test_tfn_equivariance.py::TestTorchEquivariance::test_filter0_equivariance \u001b[32mPASSED\u001b[0m\u001b[32m [ 11%]\u001b[0m\n",
      "test_tfn_equivariance.py::TestTorchEquivariance::test_filter1_output0_equivariance \u001b[32mPASSED\u001b[0m\u001b[32m [ 13%]\u001b[0m\n",
      "test_tfn_equivariance.py::TestTorchEquivariance::test_filter1_output1_equivariance \u001b[32mPASSED\u001b[0m\u001b[32m [ 15%]\u001b[0m\n",
      "test_tfn_equivariance.py::TestTorchEquivariance::test_filter2_output2_equivariance \u001b[32mPASSED\u001b[0m\u001b[32m [ 17%]\u001b[0m\n",
      "test_tfn_equivariance.py::TestTorchEquivariance::test_self_interaction_layer_with_biases_equivariance \u001b[32mPASSED\u001b[0m\u001b[32m [ 19%]\u001b[0m\n",
      "test_tfn_equivariance.py::TestTorchEquivariance::test_self_interaction_layer_without_biases_equivariance \u001b[32mPASSED\u001b[0m\u001b[32m [ 21%]\u001b[0m\n",
      "test_tfn_equivariance.py::TestTorchEquivariance::test_tfn_module_equivariance \u001b[32mPASSED\u001b[0m\u001b[32m [ 23%]\u001b[0m\n",
      "test_tfn_equivariance.py::TestTorchEquivariance::test_unit_vectors_equivariance \u001b[32mPASSED\u001b[0m\u001b[32m [ 25%]\u001b[0m\n",
      "test_tfn_feat.py::TestTFNFeaturizer::test_add_hydrogens_false \u001b[32mPASSED\u001b[0m\u001b[32m     [ 27%]\u001b[0m\n",
      "test_tfn_feat.py::TestTFNFeaturizer::test_add_hydrogens_true \u001b[32mPASSED\u001b[0m\u001b[32m      [ 29%]\u001b[0m\n",
      "test_tfn_feat.py::TestTFNFeaturizer::test_conformer_generation_failure \u001b[32mPASSED\u001b[0m\u001b[32m [ 31%]\u001b[0m\n",
      "test_tfn_feat.py::TestTFNFeaturizer::test_featurize_ethanol_with_conformer \u001b[32mPASSED\u001b[0m\u001b[32m [ 33%]\u001b[0m\n",
      "test_tfn_feat.py::TestTFNFeaturizer::test_featurize_generate_conformer \u001b[32mPASSED\u001b[0m\u001b[32m [ 35%]\u001b[0m\n",
      "test_tfn_feat.py::TestTFNFeaturizer::test_featurize_invalid_input \u001b[32mPASSED\u001b[0m\u001b[32m [ 37%]\u001b[0m\n",
      "test_tfn_feat.py::TestTFNFeaturizer::test_featurize_no_generate_conformer \u001b[32mPASSED\u001b[0m\u001b[32m [ 39%]\u001b[0m\n",
      "test_tfn_feat.py::TestTFNFeaturizer::test_featurize_unknown_atom_type \u001b[32mPASSED\u001b[0m\u001b[32m [ 41%]\u001b[0m\n",
      "test_tfn_feat.py::TestTFNFeaturizer::test_zero_atom_molecule \u001b[32mPASSED\u001b[0m\u001b[32m      [ 43%]\u001b[0m\n",
      "test_tfn_layers.py::test_R \u001b[32mPASSED\u001b[0m\u001b[32m                                        [ 45%]\u001b[0m\n",
      "test_tfn_layers.py::test_unit_vectors \u001b[32mPASSED\u001b[0m\u001b[32m                             [ 47%]\u001b[0m\n",
      "test_tfn_layers.py::test_Y_2 \u001b[32mPASSED\u001b[0m\u001b[32m                                      [ 49%]\u001b[0m\n",
      "test_tfn_layers.py::test_F_0 \u001b[32mPASSED\u001b[0m\u001b[32m                                      [ 50%]\u001b[0m\n",
      "test_tfn_layers.py::test_F_1 \u001b[32mPASSED\u001b[0m\u001b[32m                                      [ 52%]\u001b[0m\n",
      "test_tfn_layers.py::test_F_2 \u001b[32mPASSED\u001b[0m\u001b[32m                                      [ 54%]\u001b[0m\n",
      "test_tfn_layers.py::test_filter_0 \u001b[32mPASSED\u001b[0m\u001b[32m                                 [ 56%]\u001b[0m\n",
      "test_tfn_layers.py::test_filter_1_output_0 \u001b[32mPASSED\u001b[0m\u001b[32m                        [ 58%]\u001b[0m\n",
      "test_tfn_layers.py::test_filter_1_output_1 \u001b[32mPASSED\u001b[0m\u001b[32m                        [ 60%]\u001b[0m\n",
      "test_tfn_layers.py::test_filter_2_output_2 \u001b[32mPASSED\u001b[0m\u001b[32m                        [ 62%]\u001b[0m\n",
      "test_tfn_layers.py::test_self_interaction_layer_without_biases \u001b[32mPASSED\u001b[0m\u001b[32m    [ 64%]\u001b[0m\n",
      "test_tfn_layers.py::test_self_interaction_layer_with_biases \u001b[32mPASSED\u001b[0m\u001b[32m       [ 66%]\u001b[0m\n",
      "test_tfn_layers.py::test_self_interaction \u001b[32mPASSED\u001b[0m\u001b[32m                         [ 68%]\u001b[0m\n",
      "test_tfn_layers.py::test_nonlinearity \u001b[32mPASSED\u001b[0m\u001b[32m                             [ 70%]\u001b[0m\n",
      "test_tfn_layers.py::test_concatenation \u001b[32mPASSED\u001b[0m\u001b[32m                            [ 72%]\u001b[0m\n",
      "test_tfn_layers.py::test_convolution_basic \u001b[32mPASSED\u001b[0m\u001b[32m                        [ 74%]\u001b[0m\n",
      "test_tfn_model.py::test_tensor_field_network_module_init \u001b[32mPASSED\u001b[0m\u001b[32m          [ 76%]\u001b[0m\n",
      "test_tfn_model.py::test_tensor_field_network_module_forward \u001b[32mPASSED\u001b[0m\u001b[32m       [ 78%]\u001b[0m\n",
      "test_tfn_model.py::test_tensor_field_network_model_init \u001b[32mPASSED\u001b[0m\u001b[32m           [ 80%]\u001b[0m\n",
      "test_tfn_model.py::test_tensor_field_network_model_prepare_batch \u001b[32mPASSED\u001b[0m\u001b[32m  [ 82%]\u001b[0m\n",
      "test_tfn_model.py::test_tensor_field_network_model_default_generator \u001b[32mPASSED\u001b[0m\u001b[32m [ 84%]\u001b[0m\n",
      "test_tfn_utils.py::test_get_eijk \u001b[32mPASSED\u001b[0m\u001b[32m                                  [ 86%]\u001b[0m\n",
      "test_tfn_utils.py::test_norm_with_epsilon \u001b[32mPASSED\u001b[0m\u001b[32m                         [ 88%]\u001b[0m\n",
      "test_tfn_utils.py::test_ssp \u001b[32mPASSED\u001b[0m\u001b[32m                                       [ 90%]\u001b[0m\n",
      "test_tfn_utils.py::test_rotation_equivariant_nonlinearity \u001b[32mPASSED\u001b[0m\u001b[32m         [ 92%]\u001b[0m\n",
      "test_tfn_utils.py::test_difference_matrix \u001b[32mPASSED\u001b[0m\u001b[32m                         [ 94%]\u001b[0m\n",
      "test_tfn_utils.py::test_distance_matrix \u001b[32mPASSED\u001b[0m\u001b[32m                           [ 96%]\u001b[0m\n",
      "test_tfn_utils.py::test_random_rotation_matrix \u001b[32mPASSED\u001b[0m\u001b[32m                    [ 98%]\u001b[0m\n",
      "test_tfn_utils.py::test_rotation_matrix \u001b[32mPASSED\u001b[0m\u001b[32m                           [100%]\u001b[0m\n",
      "\n",
      "\u001b[32m============================= \u001b[32m\u001b[1m51 passed\u001b[0m\u001b[32m in 11.12s\u001b[0m\u001b[32m ==============================\u001b[0m\n"
     ]
    }
   ],
   "source": [
    "!pytest test_*.py -v"
   ]
  }
 ],
 "metadata": {
  "kernelspec": {
   "display_name": "tfn_env",
   "language": "python",
   "name": "python3"
  },
  "language_info": {
   "codemirror_mode": {
    "name": "ipython",
    "version": 3
   },
   "file_extension": ".py",
   "mimetype": "text/x-python",
   "name": "python",
   "nbconvert_exporter": "python",
   "pygments_lexer": "ipython3",
   "version": "3.9.18"
  }
 },
 "nbformat": 4,
 "nbformat_minor": 2
}
