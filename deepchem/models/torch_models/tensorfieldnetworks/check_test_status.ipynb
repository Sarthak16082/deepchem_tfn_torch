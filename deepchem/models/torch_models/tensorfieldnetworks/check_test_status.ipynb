{
 "cells": [
  {
   "cell_type": "code",
   "execution_count": 2,
   "metadata": {},
   "outputs": [
    {
     "name": "stdout",
     "output_type": "stream",
     "text": [
      "\u001b[1m============================= test session starts ==============================\u001b[0m\n",
      "platform darwin -- Python 3.9.18, pytest-8.3.5, pluggy-1.5.0 -- /Users/sarthak/Documents/GitHub/deepchem_tfn_torch/tfn_env/bin/python\n",
      "cachedir: .pytest_cache\n",
      "rootdir: /Users/sarthak/Documents/GitHub/deepchem_tfn_torch\n",
      "configfile: setup.cfg\n",
      "collected 52 items                                                             \u001b[0m\u001b[1m\n",
      "\n",
      "test_tfn_equivariance.py::TestTorchEquivariance::test_F0_invariance \u001b[32mPASSED\u001b[0m\u001b[32m [  1%]\u001b[0m\n",
      "test_tfn_equivariance.py::TestTorchEquivariance::test_F1_equivariance \u001b[32mPASSED\u001b[0m\u001b[32m [  3%]\u001b[0m\n",
      "test_tfn_equivariance.py::TestTorchEquivariance::test_F2_norm_invariance \u001b[32mPASSED\u001b[0m\u001b[32m [  5%]\u001b[0m\n",
      "test_tfn_equivariance.py::TestTorchEquivariance::test_R_invariance \u001b[32mPASSED\u001b[0m\u001b[32m [  7%]\u001b[0m\n",
      "test_tfn_equivariance.py::TestTorchEquivariance::test_Y2_norm_invariance \u001b[32mPASSED\u001b[0m\u001b[32m [  9%]\u001b[0m\n",
      "test_tfn_equivariance.py::TestTorchEquivariance::test_filter0_equivariance \u001b[32mPASSED\u001b[0m\u001b[32m [ 11%]\u001b[0m\n",
      "test_tfn_equivariance.py::TestTorchEquivariance::test_filter1_output0_equivariance \u001b[32mPASSED\u001b[0m\u001b[32m [ 13%]\u001b[0m\n",
      "test_tfn_equivariance.py::TestTorchEquivariance::test_filter1_output1_equivariance \u001b[32mPASSED\u001b[0m\u001b[32m [ 15%]\u001b[0m\n",
      "test_tfn_equivariance.py::TestTorchEquivariance::test_filter2_output2_equivariance \u001b[32mPASSED\u001b[0m\u001b[32m [ 17%]\u001b[0m\n",
      "test_tfn_equivariance.py::TestTorchEquivariance::test_self_interaction_layer_with_biases_equivariance \u001b[32mPASSED\u001b[0m\u001b[32m [ 19%]\u001b[0m\n",
      "test_tfn_equivariance.py::TestTorchEquivariance::test_self_interaction_layer_without_biases_equivariance \u001b[32mPASSED\u001b[0m\u001b[32m [ 21%]\u001b[0m\n",
      "test_tfn_equivariance.py::TestTorchEquivariance::test_tfn_module_equivariance \u001b[32mPASSED\u001b[0m\u001b[32m [ 23%]\u001b[0m\n",
      "test_tfn_equivariance.py::TestTorchEquivariance::test_unit_vectors_equivariance \u001b[32mPASSED\u001b[0m\u001b[32m [ 25%]\u001b[0m\n",
      "test_tfn_feat.py::TestTFNFeaturizer::test_add_hydrogens_false \u001b[32mPASSED\u001b[0m\u001b[32m     [ 26%]\u001b[0m\n",
      "test_tfn_feat.py::TestTFNFeaturizer::test_add_hydrogens_true \u001b[32mPASSED\u001b[0m\u001b[32m      [ 28%]\u001b[0m\n",
      "test_tfn_feat.py::TestTFNFeaturizer::test_conformer_generation_failure \u001b[32mPASSED\u001b[0m\u001b[32m [ 30%]\u001b[0m\n",
      "test_tfn_feat.py::TestTFNFeaturizer::test_featurize_ethanol_with_conformer \u001b[32mPASSED\u001b[0m\u001b[32m [ 32%]\u001b[0m\n",
      "test_tfn_feat.py::TestTFNFeaturizer::test_featurize_generate_conformer \u001b[32mPASSED\u001b[0m\u001b[32m [ 34%]\u001b[0m\n",
      "test_tfn_feat.py::TestTFNFeaturizer::test_featurize_invalid_input \u001b[32mPASSED\u001b[0m\u001b[32m [ 36%]\u001b[0m\n",
      "test_tfn_feat.py::TestTFNFeaturizer::test_featurize_no_generate_conformer \u001b[32mPASSED\u001b[0m\u001b[32m [ 38%]\u001b[0m\n",
      "test_tfn_feat.py::TestTFNFeaturizer::test_featurize_unknown_atom_type \u001b[32mPASSED\u001b[0m\u001b[32m [ 40%]\u001b[0m\n",
      "test_tfn_feat.py::TestTFNFeaturizer::test_zero_atom_molecule \u001b[32mPASSED\u001b[0m\u001b[32m      [ 42%]\u001b[0m\n",
      "test_tfn_layers.py::test_R \u001b[32mPASSED\u001b[0m\u001b[32m                                        [ 44%]\u001b[0m\n",
      "test_tfn_layers.py::test_unit_vectors \u001b[32mPASSED\u001b[0m\u001b[32m                             [ 46%]\u001b[0m\n",
      "test_tfn_layers.py::test_Y_2 \u001b[32mPASSED\u001b[0m\u001b[32m                                      [ 48%]\u001b[0m\n",
      "test_tfn_layers.py::test_F_0 \u001b[32mPASSED\u001b[0m\u001b[32m                                      [ 50%]\u001b[0m\n",
      "test_tfn_layers.py::test_F_1 \u001b[32mPASSED\u001b[0m\u001b[32m                                      [ 51%]\u001b[0m\n",
      "test_tfn_layers.py::test_F_2 \u001b[32mPASSED\u001b[0m\u001b[32m                                      [ 53%]\u001b[0m\n",
      "test_tfn_layers.py::test_filter_0 \u001b[32mPASSED\u001b[0m\u001b[32m                                 [ 55%]\u001b[0m\n",
      "test_tfn_layers.py::test_filter_1_output_0 \u001b[32mPASSED\u001b[0m\u001b[32m                        [ 57%]\u001b[0m\n",
      "test_tfn_layers.py::test_filter_1_output_1 \u001b[32mPASSED\u001b[0m\u001b[32m                        [ 59%]\u001b[0m\n",
      "test_tfn_layers.py::test_filter_2_output_2 \u001b[32mPASSED\u001b[0m\u001b[32m                        [ 61%]\u001b[0m\n",
      "test_tfn_layers.py::test_self_interaction_layer_without_biases \u001b[32mPASSED\u001b[0m\u001b[32m    [ 63%]\u001b[0m\n",
      "test_tfn_layers.py::test_self_interaction_layer_with_biases \u001b[32mPASSED\u001b[0m\u001b[32m       [ 65%]\u001b[0m\n",
      "test_tfn_layers.py::test_self_interaction \u001b[32mPASSED\u001b[0m\u001b[32m                         [ 67%]\u001b[0m\n",
      "test_tfn_layers.py::test_nonlinearity \u001b[32mPASSED\u001b[0m\u001b[32m                             [ 69%]\u001b[0m\n",
      "test_tfn_layers.py::test_concatenation \u001b[32mPASSED\u001b[0m\u001b[32m                            [ 71%]\u001b[0m\n",
      "test_tfn_layers.py::test_convolution_basic \u001b[32mPASSED\u001b[0m\u001b[32m                        [ 73%]\u001b[0m\n",
      "test_tfn_model.py::test_tensor_field_network_module_init \u001b[32mPASSED\u001b[0m\u001b[32m          [ 75%]\u001b[0m\n",
      "test_tfn_model.py::test_tensor_field_network_module_forward \u001b[32mPASSED\u001b[0m\u001b[32m       [ 76%]\u001b[0m\n",
      "test_tfn_model.py::test_tensor_field_network_model_init \u001b[32mPASSED\u001b[0m\u001b[32m           [ 78%]\u001b[0m\n",
      "test_tfn_model.py::test_tensor_field_network_model_prepare_batch \u001b[32mPASSED\u001b[0m\u001b[32m  [ 80%]\u001b[0m\n",
      "test_tfn_model.py::test_tensor_field_network_model_default_generator \u001b[32mPASSED\u001b[0m\u001b[32m [ 82%]\u001b[0m\n",
      "test_tfn_overfit.py::test_tfn_overfitting \u001b[32mPASSED\u001b[0m\u001b[32m                         [ 84%]\u001b[0m\n",
      "test_tfn_utils.py::test_get_eijk \u001b[32mPASSED\u001b[0m\u001b[32m                                  [ 86%]\u001b[0m\n",
      "test_tfn_utils.py::test_norm_with_epsilon \u001b[32mPASSED\u001b[0m\u001b[32m                         [ 88%]\u001b[0m\n",
      "test_tfn_utils.py::test_ssp \u001b[32mPASSED\u001b[0m\u001b[32m                                       [ 90%]\u001b[0m\n",
      "test_tfn_utils.py::test_rotation_equivariant_nonlinearity \u001b[32mPASSED\u001b[0m\u001b[32m         [ 92%]\u001b[0m\n",
      "test_tfn_utils.py::test_difference_matrix \u001b[32mPASSED\u001b[0m\u001b[32m                         [ 94%]\u001b[0m\n",
      "test_tfn_utils.py::test_distance_matrix \u001b[32mPASSED\u001b[0m\u001b[32m                           [ 96%]\u001b[0m\n",
      "test_tfn_utils.py::test_random_rotation_matrix \u001b[32mPASSED\u001b[0m\u001b[32m                    [ 98%]\u001b[0m\n",
      "test_tfn_utils.py::test_rotation_matrix \u001b[32mPASSED\u001b[0m\u001b[32m                           [100%]\u001b[0m\n",
      "\n",
      "\u001b[32m======================== \u001b[32m\u001b[1m52 passed\u001b[0m\u001b[32m in 64.74s (0:01:04)\u001b[0m\u001b[32m =========================\u001b[0m\n"
     ]
    }
   ],
   "source": [
    "!pytest test_*.py -v"
   ]
  },
  {
   "cell_type": "code",
   "execution_count": 4,
   "metadata": {},
   "outputs": [
    {
     "name": "stdout",
     "output_type": "stream",
     "text": [
      "\u001b[1m============================= test session starts ==============================\u001b[0m\n",
      "platform darwin -- Python 3.9.18, pytest-8.3.5, pluggy-1.5.0 -- /Users/sarthak/Documents/GitHub/deepchem_tfn_torch/tfn_env/bin/python\n",
      "cachedir: .pytest_cache\n",
      "rootdir: /Users/sarthak/Documents/GitHub/deepchem_tfn_torch\n",
      "configfile: setup.cfg\n",
      "collected 1 item                                                               \u001b[0m\u001b[1m\n",
      "\n",
      "test_tfn_overfit.py::test_tfn_overfitting Epoch 0, Loss: 0.55833769\n",
      "Epoch 500, Loss: 0.09239981\n",
      "Epoch 1000, Loss: 0.01362786\n",
      "Epoch 1500, Loss: 0.00000950\n",
      "Epoch 2000, Loss: 0.00008959\n",
      "Epoch 2500, Loss: 0.00050987\n",
      "Epoch 3000, Loss: 0.00028458\n",
      "Epoch 3500, Loss: 0.00046603\n",
      "Epoch 4000, Loss: 0.00028224\n",
      "Epoch 4500, Loss: 0.00000017\n",
      "Epoch 5000, Loss: 0.00000102\n",
      "Epoch 5500, Loss: 0.00000951\n",
      "Epoch 5999, Loss: 0.00000056\n",
      "Final Loss: 0.00000056\n",
      "\u001b[32mPASSED\u001b[0m\n",
      "\n",
      "\u001b[32m============================== \u001b[32m\u001b[1m1 passed\u001b[0m\u001b[32m in 37.12s\u001b[0m\u001b[32m ==============================\u001b[0m\n"
     ]
    }
   ],
   "source": [
    "!pytest test_tfn_overfit.py -sv"
   ]
  }
 ],
 "metadata": {
  "kernelspec": {
   "display_name": "tfn_env",
   "language": "python",
   "name": "python3"
  },
  "language_info": {
   "codemirror_mode": {
    "name": "ipython",
    "version": 3
   },
   "file_extension": ".py",
   "mimetype": "text/x-python",
   "name": "python",
   "nbconvert_exporter": "python",
   "pygments_lexer": "ipython3",
   "version": "3.9.18"
  }
 },
 "nbformat": 4,
 "nbformat_minor": 2
}
